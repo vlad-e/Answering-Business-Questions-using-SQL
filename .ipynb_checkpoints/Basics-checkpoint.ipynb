{
 "cells": [
  {
   "cell_type": "markdown",
   "metadata": {},
   "source": [
    "# Answering business questions using SQL and Python\n",
    "\n",
    "#### Objectives:\n",
    "\n",
    "    The aim of this project is to read a database using SQLITE library in Python and plot information gathered from it.    The database was provided by dataquest.io, the project being the first in a series of SQL tutorials using Python.\n",
    "\n",
    "\n",
    "##### Resources used:\n",
    "\n",
    "**Anaconda distribution** - *Jupyter Notebook v 5.7.8*, *Python 3.7.3*"
   ]
  },
  {
   "cell_type": "code",
   "execution_count": 52,
   "metadata": {},
   "outputs": [],
   "source": [
    "#importing the libraries\n",
    "\n",
    "import sqlite3\n",
    "import pandas as pd\n",
    "import matplotlib.pyplot as plt\n",
    "import numpy as np\n",
    "%matplotlib inline\n"
   ]
  },
  {
   "cell_type": "markdown",
   "metadata": {},
   "source": [
    "First, we will create some helper functions, because of the same code we need to write each time we try to run an SQL query using SQLITE3.\n"
   ]
  },
  {
   "cell_type": "code",
   "execution_count": 53,
   "metadata": {},
   "outputs": [],
   "source": [
    "def run_query(q):    \n",
    "    with sqlite3.connect('chinook.db') as conn:\n",
    "        return pd.read_sql(q, conn)"
   ]
  },
  {
   "cell_type": "code",
   "execution_count": 54,
   "metadata": {},
   "outputs": [],
   "source": [
    "def run_command(c):\n",
    "    with sqlite3.connect('chinook.db') as conn:\n",
    "        conn.isolation_level = None\n",
    "        conn.execute(c)"
   ]
  },
  {
   "cell_type": "code",
   "execution_count": 55,
   "metadata": {},
   "outputs": [],
   "source": [
    "def show_tables():\n",
    "    return run_query(\"SELECT name from sqlite_master where type='table'\")\n",
    "    \n",
    "    "
   ]
  },
  {
   "cell_type": "markdown",
   "metadata": {},
   "source": [
    "Testing the *show tables* function and getting an overview of the tables present in the database."
   ]
  },
  {
   "cell_type": "code",
   "execution_count": 56,
   "metadata": {},
   "outputs": [
    {
     "data": {
      "text/html": [
       "<div>\n",
       "<style scoped>\n",
       "    .dataframe tbody tr th:only-of-type {\n",
       "        vertical-align: middle;\n",
       "    }\n",
       "\n",
       "    .dataframe tbody tr th {\n",
       "        vertical-align: top;\n",
       "    }\n",
       "\n",
       "    .dataframe thead th {\n",
       "        text-align: right;\n",
       "    }\n",
       "</style>\n",
       "<table border=\"1\" class=\"dataframe\">\n",
       "  <thead>\n",
       "    <tr style=\"text-align: right;\">\n",
       "      <th></th>\n",
       "      <th>name</th>\n",
       "    </tr>\n",
       "  </thead>\n",
       "  <tbody>\n",
       "    <tr>\n",
       "      <th>0</th>\n",
       "      <td>album</td>\n",
       "    </tr>\n",
       "    <tr>\n",
       "      <th>1</th>\n",
       "      <td>artist</td>\n",
       "    </tr>\n",
       "    <tr>\n",
       "      <th>2</th>\n",
       "      <td>customer</td>\n",
       "    </tr>\n",
       "    <tr>\n",
       "      <th>3</th>\n",
       "      <td>employee</td>\n",
       "    </tr>\n",
       "    <tr>\n",
       "      <th>4</th>\n",
       "      <td>genre</td>\n",
       "    </tr>\n",
       "    <tr>\n",
       "      <th>5</th>\n",
       "      <td>invoice</td>\n",
       "    </tr>\n",
       "    <tr>\n",
       "      <th>6</th>\n",
       "      <td>invoice_line</td>\n",
       "    </tr>\n",
       "    <tr>\n",
       "      <th>7</th>\n",
       "      <td>media_type</td>\n",
       "    </tr>\n",
       "    <tr>\n",
       "      <th>8</th>\n",
       "      <td>playlist</td>\n",
       "    </tr>\n",
       "    <tr>\n",
       "      <th>9</th>\n",
       "      <td>playlist_track</td>\n",
       "    </tr>\n",
       "    <tr>\n",
       "      <th>10</th>\n",
       "      <td>track</td>\n",
       "    </tr>\n",
       "  </tbody>\n",
       "</table>\n",
       "</div>"
      ],
      "text/plain": [
       "              name\n",
       "0            album\n",
       "1           artist\n",
       "2         customer\n",
       "3         employee\n",
       "4            genre\n",
       "5          invoice\n",
       "6     invoice_line\n",
       "7       media_type\n",
       "8         playlist\n",
       "9   playlist_track\n",
       "10           track"
      ]
     },
     "execution_count": 56,
     "metadata": {},
     "output_type": "execute_result"
    }
   ],
   "source": [
    "show_tables()"
   ]
  },
  {
   "cell_type": "markdown",
   "metadata": {},
   "source": [
    "First question we will answer  - the no. of tracks and their overall percentage sold from the entire songlist in USA, grouped by gender."
   ]
  },
  {
   "cell_type": "code",
   "execution_count": 57,
   "metadata": {},
   "outputs": [],
   "source": [
    "q = \"\"\"select g.name genre_name, \n",
    "            count(*) tracks_sold,\n",
    "            CAST( count(*) as FLOAT) *100 / CAST( \n",
    "                                            (Select count(*) from track t \n",
    "                                                             join invoice_line il on t.track_id = il.track_id \n",
    "                                                             join invoice i on i.invoice_id = il.invoice_id \n",
    "                                                             where i.billing_country='USA') as FLOAT) percentage \n",
    "            from track t join invoice_line il on t.track_id = il.track_id \n",
    "            join invoice i on il.invoice_id = i.invoice_id \n",
    "            join genre g on g.genre_id = t.genre_id \n",
    "            where i.billing_country='USA' group by 1 order by percentage desc;\"\"\""
   ]
  },
  {
   "cell_type": "code",
   "execution_count": 58,
   "metadata": {},
   "outputs": [
    {
     "data": {
      "text/html": [
       "<div>\n",
       "<style scoped>\n",
       "    .dataframe tbody tr th:only-of-type {\n",
       "        vertical-align: middle;\n",
       "    }\n",
       "\n",
       "    .dataframe tbody tr th {\n",
       "        vertical-align: top;\n",
       "    }\n",
       "\n",
       "    .dataframe thead th {\n",
       "        text-align: right;\n",
       "    }\n",
       "</style>\n",
       "<table border=\"1\" class=\"dataframe\">\n",
       "  <thead>\n",
       "    <tr style=\"text-align: right;\">\n",
       "      <th></th>\n",
       "      <th>genre_name</th>\n",
       "      <th>tracks_sold</th>\n",
       "      <th>percentage</th>\n",
       "    </tr>\n",
       "  </thead>\n",
       "  <tbody>\n",
       "    <tr>\n",
       "      <th>0</th>\n",
       "      <td>Rock</td>\n",
       "      <td>561</td>\n",
       "      <td>53.377735</td>\n",
       "    </tr>\n",
       "    <tr>\n",
       "      <th>1</th>\n",
       "      <td>Alternative &amp; Punk</td>\n",
       "      <td>130</td>\n",
       "      <td>12.369172</td>\n",
       "    </tr>\n",
       "    <tr>\n",
       "      <th>2</th>\n",
       "      <td>Metal</td>\n",
       "      <td>124</td>\n",
       "      <td>11.798287</td>\n",
       "    </tr>\n",
       "    <tr>\n",
       "      <th>3</th>\n",
       "      <td>R&amp;B/Soul</td>\n",
       "      <td>53</td>\n",
       "      <td>5.042816</td>\n",
       "    </tr>\n",
       "    <tr>\n",
       "      <th>4</th>\n",
       "      <td>Blues</td>\n",
       "      <td>36</td>\n",
       "      <td>3.425309</td>\n",
       "    </tr>\n",
       "    <tr>\n",
       "      <th>5</th>\n",
       "      <td>Alternative</td>\n",
       "      <td>35</td>\n",
       "      <td>3.330162</td>\n",
       "    </tr>\n",
       "    <tr>\n",
       "      <th>6</th>\n",
       "      <td>Latin</td>\n",
       "      <td>22</td>\n",
       "      <td>2.093245</td>\n",
       "    </tr>\n",
       "    <tr>\n",
       "      <th>7</th>\n",
       "      <td>Pop</td>\n",
       "      <td>22</td>\n",
       "      <td>2.093245</td>\n",
       "    </tr>\n",
       "    <tr>\n",
       "      <th>8</th>\n",
       "      <td>Hip Hop/Rap</td>\n",
       "      <td>20</td>\n",
       "      <td>1.902950</td>\n",
       "    </tr>\n",
       "    <tr>\n",
       "      <th>9</th>\n",
       "      <td>Jazz</td>\n",
       "      <td>14</td>\n",
       "      <td>1.332065</td>\n",
       "    </tr>\n",
       "    <tr>\n",
       "      <th>10</th>\n",
       "      <td>Easy Listening</td>\n",
       "      <td>13</td>\n",
       "      <td>1.236917</td>\n",
       "    </tr>\n",
       "    <tr>\n",
       "      <th>11</th>\n",
       "      <td>Reggae</td>\n",
       "      <td>6</td>\n",
       "      <td>0.570885</td>\n",
       "    </tr>\n",
       "    <tr>\n",
       "      <th>12</th>\n",
       "      <td>Electronica/Dance</td>\n",
       "      <td>5</td>\n",
       "      <td>0.475737</td>\n",
       "    </tr>\n",
       "    <tr>\n",
       "      <th>13</th>\n",
       "      <td>Classical</td>\n",
       "      <td>4</td>\n",
       "      <td>0.380590</td>\n",
       "    </tr>\n",
       "    <tr>\n",
       "      <th>14</th>\n",
       "      <td>Heavy Metal</td>\n",
       "      <td>3</td>\n",
       "      <td>0.285442</td>\n",
       "    </tr>\n",
       "    <tr>\n",
       "      <th>15</th>\n",
       "      <td>Soundtrack</td>\n",
       "      <td>2</td>\n",
       "      <td>0.190295</td>\n",
       "    </tr>\n",
       "    <tr>\n",
       "      <th>16</th>\n",
       "      <td>TV Shows</td>\n",
       "      <td>1</td>\n",
       "      <td>0.095147</td>\n",
       "    </tr>\n",
       "  </tbody>\n",
       "</table>\n",
       "</div>"
      ],
      "text/plain": [
       "            genre_name  tracks_sold  percentage\n",
       "0                 Rock          561   53.377735\n",
       "1   Alternative & Punk          130   12.369172\n",
       "2                Metal          124   11.798287\n",
       "3             R&B/Soul           53    5.042816\n",
       "4                Blues           36    3.425309\n",
       "5          Alternative           35    3.330162\n",
       "6                Latin           22    2.093245\n",
       "7                  Pop           22    2.093245\n",
       "8          Hip Hop/Rap           20    1.902950\n",
       "9                 Jazz           14    1.332065\n",
       "10      Easy Listening           13    1.236917\n",
       "11              Reggae            6    0.570885\n",
       "12   Electronica/Dance            5    0.475737\n",
       "13           Classical            4    0.380590\n",
       "14         Heavy Metal            3    0.285442\n",
       "15          Soundtrack            2    0.190295\n",
       "16            TV Shows            1    0.095147"
      ]
     },
     "execution_count": 58,
     "metadata": {},
     "output_type": "execute_result"
    }
   ],
   "source": [
    "run_query(q)"
   ]
  },
  {
   "cell_type": "markdown",
   "metadata": {},
   "source": [
    "The top 3 most sold genres are rock subgenres - the main genre, *Rock*, leading by far, holding more than 50% of the total sales.\n",
    "We will plot the result of the table below:"
   ]
  },
  {
   "cell_type": "code",
   "execution_count": 59,
   "metadata": {},
   "outputs": [
    {
     "data": {
      "image/png": "[encoded data removed]",
      "text/plain": [
       "<Figure size 1152x432 with 1 Axes>"
      ]
     },
     "metadata": {
      "needs_background": "light"
     },
     "output_type": "display_data"
    }
   ],
   "source": [
    "#run_query(q).plot(x= \"genre_name\", y=\"percentage\",kind=\"bar\",title=\"Percentages of top sales\")\n",
    "\n",
    "figure= plt.figure(figsize=(16,6))\n",
    "x_pos = [i for i, _ in enumerate(run_query(q)[\"genre_name\"])]\n",
    "plt.bar(x_pos, run_query(q)[\"percentage\"],color='#007acc', alpha=0.2, linewidth=5,);\n",
    "#plt.plot(x_pos,run_query(q)[\"percentage\"], \"o\", markersize=15, color='#007ACC', alpha=0.6)\n",
    "plt.xlim((0,15))\n",
    "plt.xticks(x_pos,run_query(q)[\"genre_name\"],rotation ='90');"
   ]
  },
  {
   "cell_type": "markdown",
   "metadata": {
    "collapsed": true
   },
   "source": [
    "#### ! **need to transfrom the graph in order to see it better -- log transformation perhaps?**\n"
   ]
  },
  {
   "cell_type": "markdown",
   "metadata": {},
   "source": [
    "For now, we will continue to look at the difference in sales between countries\n",
    "To analyze the amount of money paid (in average) by customers in each country and classifying them."
   ]
  },
  {
   "cell_type": "code",
   "execution_count": 60,
   "metadata": {},
   "outputs": [
    {
     "data": {
      "text/html": [
       "<div>\n",
       "<style scoped>\n",
       "    .dataframe tbody tr th:only-of-type {\n",
       "        vertical-align: middle;\n",
       "    }\n",
       "\n",
       "    .dataframe tbody tr th {\n",
       "        vertical-align: top;\n",
       "    }\n",
       "\n",
       "    .dataframe thead th {\n",
       "        text-align: right;\n",
       "    }\n",
       "</style>\n",
       "<table border=\"1\" class=\"dataframe\">\n",
       "  <thead>\n",
       "    <tr style=\"text-align: right;\">\n",
       "      <th></th>\n",
       "      <th>country</th>\n",
       "      <th>customer_count</th>\n",
       "      <th>total_sales</th>\n",
       "      <th>avg_sales</th>\n",
       "      <th>avg_value</th>\n",
       "    </tr>\n",
       "  </thead>\n",
       "  <tbody>\n",
       "    <tr>\n",
       "      <th>0</th>\n",
       "      <td>USA</td>\n",
       "      <td>13</td>\n",
       "      <td>1040.49</td>\n",
       "      <td>0.060631</td>\n",
       "      <td>7.942672</td>\n",
       "    </tr>\n",
       "    <tr>\n",
       "      <th>1</th>\n",
       "      <td>Canada</td>\n",
       "      <td>8</td>\n",
       "      <td>535.59</td>\n",
       "      <td>0.092727</td>\n",
       "      <td>7.047237</td>\n",
       "    </tr>\n",
       "    <tr>\n",
       "      <th>2</th>\n",
       "      <td>Brazil</td>\n",
       "      <td>5</td>\n",
       "      <td>427.68</td>\n",
       "      <td>0.114937</td>\n",
       "      <td>7.011148</td>\n",
       "    </tr>\n",
       "    <tr>\n",
       "      <th>3</th>\n",
       "      <td>France</td>\n",
       "      <td>5</td>\n",
       "      <td>389.07</td>\n",
       "      <td>0.155628</td>\n",
       "      <td>7.781400</td>\n",
       "    </tr>\n",
       "    <tr>\n",
       "      <th>4</th>\n",
       "      <td>Germany</td>\n",
       "      <td>4</td>\n",
       "      <td>334.62</td>\n",
       "      <td>0.199060</td>\n",
       "      <td>8.161463</td>\n",
       "    </tr>\n",
       "    <tr>\n",
       "      <th>5</th>\n",
       "      <td>United Kingdom</td>\n",
       "      <td>3</td>\n",
       "      <td>245.52</td>\n",
       "      <td>0.313163</td>\n",
       "      <td>8.768571</td>\n",
       "    </tr>\n",
       "    <tr>\n",
       "      <th>6</th>\n",
       "      <td>Czech Republic</td>\n",
       "      <td>2</td>\n",
       "      <td>273.24</td>\n",
       "      <td>0.303600</td>\n",
       "      <td>9.108000</td>\n",
       "    </tr>\n",
       "    <tr>\n",
       "      <th>7</th>\n",
       "      <td>India</td>\n",
       "      <td>2</td>\n",
       "      <td>183.15</td>\n",
       "      <td>0.415306</td>\n",
       "      <td>8.721429</td>\n",
       "    </tr>\n",
       "    <tr>\n",
       "      <th>8</th>\n",
       "      <td>Portugal</td>\n",
       "      <td>2</td>\n",
       "      <td>185.13</td>\n",
       "      <td>0.220131</td>\n",
       "      <td>6.383793</td>\n",
       "    </tr>\n",
       "    <tr>\n",
       "      <th>9</th>\n",
       "      <td>Other</td>\n",
       "      <td>1</td>\n",
       "      <td>39.60</td>\n",
       "      <td>1.584000</td>\n",
       "      <td>7.920000</td>\n",
       "    </tr>\n",
       "  </tbody>\n",
       "</table>\n",
       "</div>"
      ],
      "text/plain": [
       "          country  customer_count  total_sales  avg_sales  avg_value\n",
       "0             USA              13      1040.49   0.060631   7.942672\n",
       "1          Canada               8       535.59   0.092727   7.047237\n",
       "2          Brazil               5       427.68   0.114937   7.011148\n",
       "3          France               5       389.07   0.155628   7.781400\n",
       "4         Germany               4       334.62   0.199060   8.161463\n",
       "5  United Kingdom               3       245.52   0.313163   8.768571\n",
       "6  Czech Republic               2       273.24   0.303600   9.108000\n",
       "7           India               2       183.15   0.415306   8.721429\n",
       "8        Portugal               2       185.13   0.220131   6.383793\n",
       "9           Other               1        39.60   1.584000   7.920000"
      ]
     },
     "execution_count": 60,
     "metadata": {},
     "output_type": "execute_result"
    }
   ],
   "source": [
    "c = \"DROP VIEW t5countries\"\n",
    "run_command(c)\n",
    "#creating a view of the top countries, so we can call it later\n",
    "\n",
    "c = '''\n",
    "CREATE VIEW t5countries AS\n",
    "     SELECT\n",
    "         c.country,\n",
    "         count(distinct c.customer_id) customer_count,\n",
    "         SUM(i.total) total_sales,\n",
    "         AVG(i.total)/count(c.customer_id) avg_sales,\n",
    "         AVG(i.total) avg_value\n",
    "     FROM customer c JOIN invoice i on c.customer_id = i.customer_id\n",
    "     GROUP by 1\n",
    "     ORDER by 2 DESC;\n",
    "'''\n",
    "run_command(c)\n",
    "\n",
    "q = '''SELECT \n",
    "        CASE WHEN customer_count = 1 THEN \"Other\"\n",
    "            Else country\n",
    "        END \n",
    "        country,\n",
    "         customer_count,\n",
    "         total_sales,\n",
    "          avg_sales,\n",
    "         avg_value FROM ( SELECT t5countries.*, \n",
    "                         CASE WHEN t5countries.customer_count = 1 THEN 1 \n",
    "                         ELSE 0 \n",
    "                         END \n",
    "                         AS SORT FROM t5countries ) GROUP BY 1 ORDER BY 2 DESC '''\n",
    "\n",
    "run_query(q)"
   ]
  },
  {
   "cell_type": "markdown",
   "metadata": {},
   "source": [
    "Again, USA is at the top of the list.\n",
    "\n",
    "Plotting the numbers will give us a better understaning.\n"
   ]
  },
  {
   "cell_type": "code",
   "execution_count": 82,
   "metadata": {},
   "outputs": [
    {
     "data": {
      "image/png": "[encoded data removed]",
      "text/plain": [
       "<Figure size 648x720 with 4 Axes>"
      ]
     },
     "metadata": {
      "needs_background": "light"
     },
     "output_type": "display_data"
    }
   ],
   "source": [
    "country_data = run_query(q)\n",
    "country_data.set_index(\"country\", drop=True, inplace=True)\n",
    "colors = [plt.cm.Accent(i) for i in np.linspace(0, 1, country_data.shape[0])] #different color for each country or category\n",
    "\n",
    "fig, axes = plt.subplots(nrows=2, ncols=2, figsize=(9, 10))\n",
    "ax1, ax2, ax3, ax4 = axes.flatten()\n",
    "fig.subplots_adjust(hspace=.5, wspace=.3)\n",
    "\n",
    "#pie chart\n",
    "sales = country_data[\"total_sales\"].copy().rename('') #copying the data from the DF\n",
    "sales.plot.pie(ax=ax1, startangle=-90, counterclock = False, title='Sales Breakdown by Country,\\nNumber of Customers', \n",
    "               colormap = plt.cm.gist_rainbow, fontsize =8,  wedgeprops={'linewidth':0});\n",
    "\n",
    "\n",
    "#2-bar chart\n",
    "cols = [\"customer_count\",\"total_sales\"]\n",
    "cust_vs_sales = country_data[cols].copy()\n",
    "cust_vs_sales.index_name = ''\n",
    "for c in cols:\n",
    "    cust_vs_sales[c] /= cust_vs_sales[c].sum() / 100\n",
    "cust_vs_sales.plot.bar(\n",
    "        ax= ax2,\n",
    "        colormap = plt.cm.Set1,\n",
    "        title=\"Pct Customers vs Sales\"\n",
    ")\n",
    "\n",
    "ax2.spines[\"top\"].set_visible(False)\n",
    "ax2.spines[\"right\"].set_visible(False)"
   ]
  }
 ],
 "metadata": {
  "kernelspec": {
   "display_name": "Python 3",
   "language": "python",
   "name": "python3"
  },
  "language_info": {
   "codemirror_mode": {
    "name": "ipython",
    "version": 3
   },
   "file_extension": ".py",
   "mimetype": "text/x-python",
   "name": "python",
   "nbconvert_exporter": "python",
   "pygments_lexer": "ipython3",
   "version": "3.7.3"
  }
 },
 "nbformat": 4,
 "nbformat_minor": 2
}
